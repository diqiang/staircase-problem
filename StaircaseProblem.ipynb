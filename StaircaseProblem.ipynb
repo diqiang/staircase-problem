{
 "cells": [
  {
   "cell_type": "code",
   "execution_count": 40,
   "metadata": {},
   "outputs": [],
   "source": [
    "def find_ways(steps, actions = [1, 2]):\n",
    "    '''\n",
    "    Main function to  run sub-functions in desired sequence\n",
    "    '''\n",
    "    #Check inputs provided\n",
    "    steps, actions = check_inputs(steps, actions)\n",
    "    \n",
    "    #Initialize list rather than define as functiond efault\n",
    "    ways = list()\n",
    "    \n",
    "    #Calculate the number of ways\n",
    "    ways = check_step(steps, actions, ways)\n",
    "    \n",
    "    #Output the number of ways\n",
    "    print('Number of ways:', len(ways))"
   ]
  },
  {
   "cell_type": "code",
   "execution_count": 41,
   "metadata": {},
   "outputs": [],
   "source": [
    "def check_inputs(steps, actions):\n",
    "    '''\n",
    "    Sub-function to check the inputs parsed into the main function\n",
    "    '''\n",
    "    #If actions are provided in a set, convert sets to list for indexing\n",
    "    if type(actions) is set:\n",
    "        actions = list(actions)\n",
    "    \n",
    "    #Assertions to validate inputs\n",
    "    assert(type(steps)==int), 'Steps must be an integer'\n",
    "    assert(type(actions) is list), 'Possible actions must be provided in a list or set'\n",
    "    assert(sum([type(s)!=int for s in actions])==0), 'Possible actions must only contain integers'\n",
    "    \n",
    "    #Remove duplicates by converting the list into a dict which does not allow duplicates\n",
    "    actions = list(dict.fromkeys(actions))\n",
    "    \n",
    "    #Sort the list to simplify logic when counting number of ways\n",
    "    actions.sort() \n",
    "    \n",
    "    return steps, actions"
   ]
  },
  {
   "cell_type": "code",
   "execution_count": 42,
   "metadata": {},
   "outputs": [],
   "source": [
    "def check_step(steps, actions, ways):\n",
    "    '''\n",
    "    Sub-function to calculate the number of ways in a recursive manner\n",
    "    '''\n",
    "    for move in actions:\n",
    "        #Steps left after taking each move in action set\n",
    "        remaining_steps = steps - move\n",
    "        \n",
    "        #If steps left = 0, the move taken is a solution\n",
    "        if remaining_steps == 0:\n",
    "            ways.append(None)\n",
    "\n",
    "        #If steps left after taking move is >0, enter recursive loop with remaining steps\n",
    "        if remaining_steps > 0: \n",
    "            check_step(remaining_steps, actions, ways)\n",
    "            \n",
    "    return ways"
   ]
  },
  {
   "cell_type": "code",
   "execution_count": 45,
   "metadata": {},
   "outputs": [
    {
     "name": "stdout",
     "output_type": "stream",
     "text": [
      "Number of ways: 15\n"
     ]
    }
   ],
   "source": [
    "#Call the main function where steps = Total steps & actions = List of possible actions\n",
    "find_ways(steps = 5, actions = {3, 4, 1, 2})"
   ]
  }
 ],
 "metadata": {
  "kernelspec": {
   "display_name": "Python 3",
   "language": "python",
   "name": "python3"
  },
  "language_info": {
   "codemirror_mode": {
    "name": "ipython",
    "version": 3
   },
   "file_extension": ".py",
   "mimetype": "text/x-python",
   "name": "python",
   "nbconvert_exporter": "python",
   "pygments_lexer": "ipython3",
   "version": "3.6.7"
  }
 },
 "nbformat": 4,
 "nbformat_minor": 2
}
